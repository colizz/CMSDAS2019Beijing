{
 "cells": [
  {
   "cell_type": "markdown",
   "metadata": {},
   "source": [
    "# 3. Using PyROOT with CMS-SW environment\n",
    "\n",
    "In this example, we will see how to use PyROOT together with CMS-SW packages to manuplate a CMS structured ROOT file. The steps we follow are:\n",
    "- read the `slimmedJets` and `slimmedMuons` branches in MiniAOD;\n",
    "- apply event selection:  $ N_{jets} \\geq 2 $,  $ N_{\\mu} \\geq 1 $, $ p_{Tjet1} > 30 $ GeV, $ |\\eta_{jet1}| < 4.5 $;\n",
    "- draw distributions of leading jet pT, leading muon pT and leading two jets invariant mass.\n",
    "\n",
    "Both ROOT-style code and pythonic code are shown."
   ]
  },
  {
   "cell_type": "code",
   "execution_count": 1,
   "metadata": {},
   "outputs": [
    {
     "name": "stdout",
     "output_type": "stream",
     "text": [
      "Welcome to JupyROOT 6.14/09\n"
     ]
    }
   ],
   "source": [
    "import ROOT\n",
    "from DataFormats.FWLite import Handle, Events # CMSSW package"
   ]
  },
  {
   "cell_type": "markdown",
   "metadata": {},
   "source": [
    "## ROOT approach"
   ]
  },
  {
   "cell_type": "code",
   "execution_count": 2,
   "metadata": {},
   "outputs": [],
   "source": [
    "# define histogram before event generation\n",
    "h_ptj1 = ROOT.TH1F(\"h_ptj1\", \"leading jet p_{T};[GeV];Entries\", 40, 0., 200.)\n",
    "h_ptmu1 = ROOT.TH1F(\"h_ptmu1\", \"leading muon p_{T};;Entries\", 40, 0., 200.)\n",
    "h_mjj = ROOT.TH1F(\"h_mjj\", \"M_{jj};[GeV];Entries\", 40, 0., 200.)\n",
    "\n",
    "# read events\n",
    "events = Events(\"/home/cmsdas/public/pre_exercises/root/CMSDataAnaSch_Data_706_MiniAOD.root\")\n",
    "jets = Handle(\"vector<pat::Jet>\")\n",
    "muons = Handle(\"vector<pat::Muon>\")\n",
    "for ie, event in enumerate(events): # loop over events\n",
    "    event.getByLabel(\"slimmedJets\", jets)\n",
    "    event.getByLabel(\"slimmedMuons\", muons)\n",
    "    \n",
    "    # event selection\n",
    "    if jets.product().size()<2 or muons.product().size()<1 or jets.product().at(0).pt()<30 or abs(jets.product().at(0).eta())>4.5:\n",
    "        continue\n",
    "        \n",
    "    # fill histogram\n",
    "    h_ptj1.Fill(jets.product().at(0).pt())\n",
    "    h_ptmu1.Fill(muons.product().at(0).pt())\n",
    "    h_mjj.Fill((jets.product().at(0).p4()+jets.product().at(1).p4()).M())\n",
    "    # end the event loop\n",
    "    \n",
    "# histogram h_ptj1, h_ptmu1 & h_mjj are now ready"
   ]
  },
  {
   "cell_type": "code",
   "execution_count": 3,
   "metadata": {},
   "outputs": [
    {
     "data": {
      "image/png": "[encoded data removed]",
      "text/plain": [
       "<IPython.core.display.Image object>"
      ]
     },
     "metadata": {},
     "output_type": "display_data"
    }
   ],
   "source": [
    "# plotting with ROOT\n",
    "c = ROOT.TCanvas(\"c\", \"c\", 900, 300)\n",
    "c.Divide(3,1)\n",
    "c.cd(1); h_ptj1.Draw()\n",
    "c.cd(2); h_ptmu1.Draw()\n",
    "c.cd(3); h_mjj.Draw()\n",
    "c.Draw()"
   ]
  },
  {
   "cell_type": "markdown",
   "metadata": {},
   "source": [
    "## Pythonic approach"
   ]
  },
  {
   "cell_type": "code",
   "execution_count": 4,
   "metadata": {},
   "outputs": [],
   "source": [
    "import numpy as np\n",
    "from matplotlib import pyplot as plt\n",
    "\n",
    "# initialize array for plotting use\n",
    "slimmedJets = [[], []]\n",
    "slimmedMuons = []\n",
    "\n",
    "def toArray(obj): # transform pat::Jet/Muon obj to plain array\n",
    "    return (obj.px(), obj.py(), obj.pz(), obj.energy())\n",
    "# read events\n",
    "events = Events(\"/home/cmsdas/public/pre_exercises/root/CMSDataAnaSch_Data_706_MiniAOD.root\")\n",
    "jets = Handle(\"vector<pat::Jet>\")\n",
    "muons = Handle(\"vector<pat::Muon>\")\n",
    "for ie, event in enumerate(events): # loop over events\n",
    "    event.getByLabel(\"slimmedJets\", jets)\n",
    "    event.getByLabel(\"slimmedMuons\", muons)\n",
    "    \n",
    "    # append 4-vector value to arries\n",
    "    slimmedJets[0].append(toArray(jets.product().at(0)) if jets.product().size()>0 else (0.,0.,0.,0.))\n",
    "    slimmedJets[1].append(toArray(jets.product().at(1)) if jets.product().size()>1 else (0.,0.,0.,0.))\n",
    "    slimmedMuons.append(toArray(muons.product().at(0)) if muons.product().size()>0 else (0.,0.,0.,0.))\n",
    "    # end the event loop\n",
    "    \n",
    "# array slimmedJets & slimmedMuons are now ready"
   ]
  },
  {
   "cell_type": "code",
   "execution_count": 5,
   "metadata": {},
   "outputs": [
    {
     "name": "stdout",
     "output_type": "stream",
     "text": [
      "10882 / 11410 events selected\n"
     ]
    },
    {
     "data": {
      "image/png": "[encoded data removed]",
      "text/plain": [
       "<Figure size 1080x288 with 3 Axes>"
      ]
     },
     "metadata": {
      "needs_background": "light"
     },
     "output_type": "display_data"
    }
   ],
   "source": [
    "# define selection\n",
    "nevt = len(slimmedMuons)\n",
    "selec =[slimmedJets[1][i][0]!=0. and slimmedMuons[i][0]!=0. and \\\n",
    "        ROOT.TLorentzVector(*slimmedJets[0][i]).Pt()>30 and \n",
    "        abs(ROOT.TLorentzVector(*slimmedJets[0][i]).Eta())<4.5 for i in range(nevt)]\n",
    "print(\"{} / {} events selected\".format(len(np.array(slimmedMuons)[selec]), nevt))\n",
    "# plotting with matplotlib\n",
    "kwargs = {'bins':40, 'range':(0.,200.), 'histtype':'step', 'linewidth':2}\n",
    "plt.figure(figsize=(15,4))\n",
    "plt.subplot(1,3,1)\n",
    "plt.hist(np.array([ROOT.TLorentzVector(*slimmedJets[0][i]).Pt() for i in range(nevt)])[selec], label=r'leading jet $p_T$', **kwargs)\n",
    "plt.legend()\n",
    "plt.subplot(1,3,2)\n",
    "plt.hist(np.array([ROOT.TLorentzVector(*slimmedMuons[i]).Pt() for i in range(nevt)])[selec], label=r'leading muon $p_T$', **kwargs)\n",
    "plt.legend()\n",
    "plt.subplot(1,3,3)\n",
    "plt.hist(np.array([ROOT.TLorentzVector(*(np.array(slimmedJets[0][i])+np.array(slimmedJets[1][i]))).M() for i in range(nevt)])[selec], label=r'$M_{jj}$', **kwargs)\n",
    "plt.legend()\n",
    "plt.show()"
   ]
  }
 ],
 "metadata": {
  "kernelspec": {
   "display_name": "Python 2",
   "language": "python",
   "name": "python2"
  },
  "language_info": {
   "codemirror_mode": {
    "name": "ipython",
    "version": 2
   },
   "file_extension": ".py",
   "mimetype": "text/x-python",
   "name": "python",
   "nbconvert_exporter": "python",
   "pygments_lexer": "ipython2",
   "version": "2.7.15+"
  }
 },
 "nbformat": 4,
 "nbformat_minor": 2
}
